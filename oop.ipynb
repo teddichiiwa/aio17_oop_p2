{
 "cells": [
  {
   "cell_type": "code",
   "execution_count": 4,
   "metadata": {},
   "outputs": [
    {
     "name": "stdout",
     "output_type": "stream",
     "text": [
      "woof\n",
      "woof\n",
      "**********\n",
      "meow\n",
      "meow\n"
     ]
    }
   ],
   "source": [
    "from abc import ABC, abstractmethod\n",
    "\n",
    "# encapsulation\n",
    "# abstraction\n",
    "# inheritance\n",
    "# polymorphism\n",
    "\n",
    "class Speakable(ABC):\n",
    "    def __init__(self, speakWord):\n",
    "        self._speakWord = speakWord\n",
    "\n",
    "    @abstractmethod\n",
    "    def speak(self):\n",
    "        print(self._speakWord)\n",
    "\n",
    "class Dog(Speakable):\n",
    "    def speak(self):\n",
    "        super().speak()\n",
    "\n",
    "class Cat(Speakable):\n",
    "    def speak(self):\n",
    "        super().speak()\n",
    "\n",
    "dog = Dog(speakWord='woof')\n",
    "print(dog._speakWord)\n",
    "dog.speak()\n",
    "\n",
    "print('*' * 10)\n",
    "\n",
    "cat = Cat(speakWord='meow')\n",
    "print(cat._speakWord)\n",
    "cat.speak()\n",
    "\n"
   ]
  }
 ],
 "metadata": {
  "interpreter": {
   "hash": "8cac783c40538868f1a91ea51d8c19d01f3bffb416664ae6cfaa5179ecd90669"
  },
  "kernelspec": {
   "display_name": "Python 3.9.11 ('aio_2022_dev_env_39')",
   "language": "python",
   "name": "python3"
  },
  "language_info": {
   "codemirror_mode": {
    "name": "ipython",
    "version": 3
   },
   "file_extension": ".py",
   "mimetype": "text/x-python",
   "name": "python",
   "nbconvert_exporter": "python",
   "pygments_lexer": "ipython3",
   "version": "3.9.11"
  },
  "orig_nbformat": 4
 },
 "nbformat": 4,
 "nbformat_minor": 2
}
