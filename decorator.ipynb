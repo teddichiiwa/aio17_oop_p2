{
 "cells": [
  {
   "cell_type": "code",
   "execution_count": 5,
   "metadata": {},
   "outputs": [
    {
     "name": "stdout",
     "output_type": "stream",
     "text": [
      "Input must be of type string\n",
      "PHAN ANH ĐẸP TRAI!\n",
      "phan anh đẹp trai!\n"
     ]
    }
   ],
   "source": [
    "#  string check decorator\n",
    "\n",
    "class UltimateTextPreprocessorBase:\n",
    "    def __mustBeOfTypeString(f):\n",
    "        '''\n",
    "        perform function when input data is of type string\n",
    "        '''\n",
    "        def wrapper(self, *arg, **kwargs):\n",
    "            if isinstance(arg[0], str):\n",
    "                return f(self, *arg, **kwargs)\n",
    "            else:\n",
    "                return 'Input must be of type string'\n",
    "        return wrapper\n",
    "\n",
    "    def __transfromUglyToHandsome(f):\n",
    "        def wrapper(self, *arg, **kwargs):\n",
    "             return f(self, arg[0].lower().replace('xấu trai', 'đẹp trai'), **kwargs)\n",
    "        return wrapper\n",
    "\n",
    "\n",
    "    @__mustBeOfTypeString\n",
    "    @__transfromUglyToHandsome\n",
    "    def performLowercasing(self, input):\n",
    "        return input.lower()\n",
    "\n",
    "    @__mustBeOfTypeString\n",
    "    @__transfromUglyToHandsome\n",
    "    def performUppercasing(self, input):\n",
    "        return input.upper()\n",
    "\n",
    "textPreprocessor = UltimateTextPreprocessorBase()\n",
    "print(textPreprocessor.performUppercasing(123456))\n",
    "print(textPreprocessor.performUppercasing('PhAn AnH xẤu TrAi!'))\n",
    "print(textPreprocessor.performLowercasing('PhAn AnH xẤu TrAi!'))\n",
    "\n",
    "# -> Input must be of type string\n",
    "# -> PHAN ANH ĐẸP TRAI!\n",
    "# -> phan anh đẹp trai!\n"
   ]
  }
 ],
 "metadata": {
  "interpreter": {
   "hash": "8cac783c40538868f1a91ea51d8c19d01f3bffb416664ae6cfaa5179ecd90669"
  },
  "kernelspec": {
   "display_name": "Python 3.9.11 ('aio_2022_dev_env_39')",
   "language": "python",
   "name": "python3"
  },
  "language_info": {
   "codemirror_mode": {
    "name": "ipython",
    "version": 3
   },
   "file_extension": ".py",
   "mimetype": "text/x-python",
   "name": "python",
   "nbconvert_exporter": "python",
   "pygments_lexer": "ipython3",
   "version": "3.9.11"
  },
  "orig_nbformat": 4
 },
 "nbformat": 4,
 "nbformat_minor": 2
}
