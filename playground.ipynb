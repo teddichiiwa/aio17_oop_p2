{
 "cells": [
  {
   "cell_type": "code",
   "execution_count": 1,
   "metadata": {},
   "outputs": [
    {
     "name": "stdout",
     "output_type": "stream",
     "text": [
      "Phan Anh says woof woof\n",
      "Phan Anh says woof woof\n",
      "Phan Anh says woof woof\n",
      "...\n",
      "...\n"
     ]
    }
   ],
   "source": [
    "from another_library import *\n",
    "\n",
    "target = 'Phan Anh'\n",
    "bark(target) # -> 'Phan Anh says woof woof'\n",
    "# Author note: why must I do this?\n",
    "\n",
    "maxBarkTime = 3         # (1)\n",
    "barkIndex = 0           # (2)\n",
    "\n",
    "for i in range(0,5):    # (3)\n",
    "    if (i >= maxBarkTime):\n",
    "        print('...')\n",
    "    else:\n",
    "        print(bark(target))\n",
    "    barkIndex += 1"
   ]
  },
  {
   "cell_type": "code",
   "execution_count": 2,
   "metadata": {},
   "outputs": [
    {
     "name": "stdout",
     "output_type": "stream",
     "text": [
      "Scooby Doo woof woof\n",
      "Scooby Doo woof woof\n",
      "...\n",
      "...\n",
      "...\n"
     ]
    }
   ],
   "source": [
    "dog = Dog('Scooby Doo') \n",
    "dog.bark() # -> 'Scooby Doo woof woof'\n",
    "# Bark ability came from Dog object, \n",
    "# and the dog knows that\n",
    "\n",
    "for i in range(0,5):  # (1)\n",
    "    print(dog.bark())"
   ]
  }
 ],
 "metadata": {
  "interpreter": {
   "hash": "8cac783c40538868f1a91ea51d8c19d01f3bffb416664ae6cfaa5179ecd90669"
  },
  "kernelspec": {
   "display_name": "Python 3.9.11 ('aio_2022_dev_env_39')",
   "language": "python",
   "name": "python3"
  },
  "language_info": {
   "codemirror_mode": {
    "name": "ipython",
    "version": 3
   },
   "file_extension": ".py",
   "mimetype": "text/x-python",
   "name": "python",
   "nbconvert_exporter": "python",
   "pygments_lexer": "ipython3",
   "version": "3.9.11"
  },
  "orig_nbformat": 4
 },
 "nbformat": 4,
 "nbformat_minor": 2
}
