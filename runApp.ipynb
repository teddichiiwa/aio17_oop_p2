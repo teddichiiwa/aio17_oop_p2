{
 "cells": [
  {
   "cell_type": "code",
   "execution_count": 11,
   "metadata": {},
   "outputs": [
    {
     "name": "stdout",
     "output_type": "stream",
     "text": [
      "9\n",
      "12\n",
      "-1\n",
      "12\n"
     ]
    }
   ],
   "source": [
    "from library import *\n",
    "from another_library import *\n",
    "\n",
    "def runFPApp():\n",
    "    a = 1\n",
    "    b = 2\n",
    "    print(squared_sum(a, b))\n",
    "    print(add(a, b))\n",
    "    print(subtract(a, b))\n",
    "    print(add(a, b)) # (1)\n",
    "\n",
    "runFPApp()"
   ]
  },
  {
   "cell_type": "code",
   "execution_count": 7,
   "metadata": {},
   "outputs": [
    {
     "name": "stdout",
     "output_type": "stream",
     "text": [
      "9\n",
      "3\n",
      "-1\n",
      "12\n"
     ]
    }
   ],
   "source": [
    "def runOOPApp():\n",
    "    number = Number(1, 2)\n",
    "    print(number.squared_sum())\n",
    "    print(number.add())\n",
    "    print(number.subtract())\n",
    "\n",
    "    string = String(1, 2) # (2)\n",
    "    print(string.add())   # (3)\n",
    "\n",
    "runOOPApp()"
   ]
  }
 ],
 "metadata": {
  "interpreter": {
   "hash": "8cac783c40538868f1a91ea51d8c19d01f3bffb416664ae6cfaa5179ecd90669"
  },
  "kernelspec": {
   "display_name": "Python 3.9.11 ('aio_2022_dev_env_39')",
   "language": "python",
   "name": "python3"
  },
  "language_info": {
   "codemirror_mode": {
    "name": "ipython",
    "version": 3
   },
   "file_extension": ".py",
   "mimetype": "text/x-python",
   "name": "python",
   "nbconvert_exporter": "python",
   "pygments_lexer": "ipython3",
   "version": "3.9.11"
  },
  "orig_nbformat": 4
 },
 "nbformat": 4,
 "nbformat_minor": 2
}
